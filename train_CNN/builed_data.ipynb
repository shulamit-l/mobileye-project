{
 "cells": [
  {
   "cell_type": "code",
   "execution_count": 1,
   "metadata": {},
   "outputs": [
    {
     "name": "stdout",
     "output_type": "stream",
     "text": [
      "Elementary imports: \n",
      "numpy/scipy imports:\n",
      "PIL imports:\n",
      "matplotlib imports:\n",
      "All imports okay. Yay!\n"
     ]
    }
   ],
   "source": [
    "try:\n",
    "    print(\"Elementary imports: \")\n",
    "    import os\n",
    "    import json\n",
    "    import glob\n",
    "    from PIL import Image, ImageOps\n",
    "    import argparse\n",
    "    print(\"numpy/scipy imports:\")\n",
    "    import numpy as np\n",
    "    from scipy import signal as sg\n",
    "    import scipy.ndimage as ndimage\n",
    "    from scipy.ndimage.filters import maximum_filter\n",
    "    print(\"PIL imports:\")\n",
    "    print(\"matplotlib imports:\")\n",
    "    import matplotlib.pyplot as plt\n",
    "    from skimage.feature import peak_local_max\n",
    "\n",
    "except ImportError:\n",
    "    print(\"Need to fix the installation\")\n",
    "    raise\n",
    "print(\"All imports okay. Yay!\")"
   ]
  },
  {
   "cell_type": "code",
   "execution_count": 2,
   "metadata": {},
   "outputs": [],
   "source": [
    "#==============Auxiliary Functions==================\n",
    "\n",
    "def find_lights(image: np.ndarray, kernel:np.ndarray):\n",
    "\n",
    "    result = sg.convolve2d(image, kernel)\n",
    "    max_dots = peak_local_max(result, min_distance=20, num_peaks=10)\n",
    "\n",
    "    lights_dots = []\n",
    "    for i in max_dots:\n",
    "        lights_dots.append([i[1], i[0]])\n",
    "\n",
    "    return lights_dots\n",
    "\n",
    "#===================================================\n",
    "\n",
    "def find_tfl_lights(image_path):\n",
    "\n",
    "    image = np.array(Image.open(image_path))\n",
    "\n",
    "    kernel_r = np.array(\n",
    "        [[-0.5, -0.5, -0.5], [-0.5, -0.5, -0.5], [-0.5, -0.5, -0.5], [-0.5, -0.5, -0.5], [-0.5, -0.5, -0.5],\n",
    "         [-0.5, -0.5, -0.5], [-0.5, -0.5, -0.5], [-0.5, -0.5, -0.5], [-0.5, -0.5, -0.5], [1, 1, -0.5], [1, 2, 1],\n",
    "         [1, 2, 1], [1, 1, 1], [1, 1, 1]])\n",
    "\n",
    "    kernel_g = np.array(\n",
    "        [[1, 1, 1], [1, 1, 1], [1, 2, 1], [1, 2, 1], [1, 1, -0.5], [1, 1, -0.5], [-0.5, -0.5, -0.5], [-0.5, -0.5, -0.5],\n",
    "         [-0.5, -0.5, -0.5], [-0.5, -0.5, -0.5], [-0.5, -0.5, -0.5], [-0.5, -0.5, -0.5], [-0.5, -0.5, -0.5],\n",
    "         [-0.5, -0.5, -0.5], [-0.5, -0.5, -0.5], ])\n",
    "\n",
    "\n",
    "    red_dots = find_lights(image[:, :, 0],kernel_r)\n",
    "    green_dots = find_lights(image[:, :, 1], kernel_g)\n",
    "\n",
    "    colors = ['red'] * len(red_dots) + ['green'] * len(green_dots)\n",
    "\n",
    "    return red_dots + green_dots, colors"
   ]
  },
  {
   "cell_type": "code",
   "execution_count": 3,
   "metadata": {},
   "outputs": [],
   "source": [
    "def get_cord(image, label):\n",
    "    \n",
    "    label = np.array(Image.open(label))\n",
    "    im = np.array(Image.open(image))\n",
    "    \n",
    "    light_dots,colors = find_tfl_lights(image)\n",
    "    \n",
    "    TFL_list = []\n",
    "    not_TFL_list = []    \n",
    "    \n",
    "    for dot in light_dots:\n",
    "        if label[dot[1]][dot[0]] == 19:\n",
    "            TFL_list.append(dot)\n",
    "        else:\n",
    "            not_TFL_list.append(dot)    \n",
    "                \n",
    "    leng = min(len(TFL_list),len(not_TFL_list))\n",
    "    return TFL_list[0:leng] ,not_TFL_list[0:leng]"
   ]
  },
  {
   "cell_type": "code",
   "execution_count": 4,
   "metadata": {},
   "outputs": [],
   "source": [
    "def add_new_data(filename ,im):\n",
    "    with open(filename, mode='ab') as fileobj:\n",
    "        np.array(im, dtype=np.uint8).tofile(fileobj)"
   ]
  },
  {
   "cell_type": "code",
   "execution_count": 5,
   "metadata": {},
   "outputs": [],
   "source": [
    "def crop_and_save(image, coordinates, is_tfl):\n",
    "    \n",
    "    img = Image.open(image)\n",
    "    img = ImageOps.expand(img, border=41, fill='black')\n",
    "    for crd in coordinates:\n",
    "        im = img.crop((round(crd[1]), round(crd[0]), round(crd[1]) + 81, round(crd[0]) + 81))\n",
    "        if \"train\" in image:\n",
    "            add_new_data(\"data_dir/train/data.bin\",im)\n",
    "            add_new_data(\"data_dir/train/labels.bin\", is_tfl)\n",
    "\n",
    "        else:\n",
    "            add_new_data(\"data_dir/val/data.bin\",im)\n",
    "            add_new_data(\"data_dir/val/labels.bin\", is_tfl)"
   ]
  },
  {
   "cell_type": "code",
   "execution_count": 6,
   "metadata": {},
   "outputs": [],
   "source": [
    "def build_dataset(image):\n",
    "    \n",
    "    label = image.replace(\"leftImg8bit\", \"gtFine\", 1).replace(\"_leftImg8bit\", \"_gtFine_labelIds\", 1)\n",
    "    TFL_list, not_TFL_list = get_cord(image, label)\n",
    "    crop_and_save(image, TFL_list, 1)\n",
    "    crop_and_save(image, not_TFL_list, 0)\n",
    "\n",
    "    \n",
    "def build_data_from(image_path):\n",
    "    for root, dirs, files in os.walk(image_path, topdown=True):\n",
    "        for image in files:\n",
    "            if image.endswith(\".png\"):\n",
    "                build_dataset(os.path.join(root, image))"
   ]
  },
  {
   "cell_type": "code",
   "execution_count": 7,
   "metadata": {},
   "outputs": [],
   "source": [
    "build_data_from('leftImg8bit/train')\n"
   ]
  },
  {
   "cell_type": "code",
   "execution_count": 8,
   "metadata": {},
   "outputs": [],
   "source": [
    "build_data_from('leftImg8bit/val')"
   ]
  },
  {
   "cell_type": "code",
   "execution_count": null,
   "metadata": {},
   "outputs": [],
   "source": []
  }
 ],
 "metadata": {
  "kernelspec": {
   "display_name": "Python 3.7.7 64-bit",
   "language": "python",
   "name": "python37764bit901d3d6f2aba4eb1ab0fa9b3e1dac6e4"
  },
  "language_info": {
   "codemirror_mode": {
    "name": "ipython",
    "version": 3
   },
   "file_extension": ".py",
   "mimetype": "text/x-python",
   "name": "python",
   "nbconvert_exporter": "python",
   "pygments_lexer": "ipython3",
   "version": "3.7.7"
  }
 },
 "nbformat": 4,
 "nbformat_minor": 4
}
